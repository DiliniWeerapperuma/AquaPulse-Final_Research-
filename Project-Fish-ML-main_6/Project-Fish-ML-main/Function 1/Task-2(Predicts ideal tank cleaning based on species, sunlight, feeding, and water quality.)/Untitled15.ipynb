{
  "nbformat": 4,
  "nbformat_minor": 0,
  "metadata": {
    "colab": {
      "provenance": []
    },
    "kernelspec": {
      "name": "python3",
      "display_name": "Python 3"
    },
    "language_info": {
      "name": "python"
    }
  },
  "cells": [
    {
      "cell_type": "code",
      "execution_count": null,
      "metadata": {
        "id": "9ZXx0NqO1Vlj"
      },
      "outputs": [],
      "source": [
        "value_mapping = {'Low': (0, 40), 'Average': (40, 74.99), 'High': (75, 99.99)}  # Adjust these values as needed\n",
        "\n",
        "# Function to replace categorical values with random values\n",
        "def replace_with_random(category, mapping):\n",
        "    # Strip leading and trailing spaces\n",
        "    category = category.strip()\n",
        "    lower, upper = mapping.get(category, (0, 0))  # Use get() to handle unknown categories\n",
        "    return np.random.uniform(lower, upper)\n",
        "\n",
        "# Apply the function to replace values in the 'Sunlight_Exposure' column\n",
        "data['Sunlight_Exposure'] = data['Sunlight_Exposure'].apply(lambda x: replace_with_random(x, value_mapping))\n",
        "\n",
        "# Display the updated DataFrame\n",
        "print(data)"
      ]
    },
    {
      "cell_type": "markdown",
      "source": [
        "**reproducibility**"
      ],
      "metadata": {
        "id": "pN_fAfOb4109"
      }
    },
    {
      "cell_type": "code",
      "source": [
        "value_mapping = {'Low': (0, 40), 'Average': (40, 74.99), 'High': (75, 99.99)}  # Adjust these values as needed\n",
        "\n",
        "# Set a seed for reproducibility\n",
        "np.random.seed(42)  # You can use any integer as the seed value\n",
        "\n",
        "# Function to replace categorical values with random values\n",
        "def replace_with_random(category, mapping):\n",
        "    # Strip leading and trailing spaces\n",
        "    category = category.strip()\n",
        "    lower, upper = mapping.get(category, (0, 0))  # Use get() to handle unknown categories\n",
        "    return np.random.uniform(lower, upper)\n",
        "\n",
        "# Apply the function to replace values in the 'Sunlight_Exposure' column\n",
        "data['Sunlight_Exposure'] = data['Sunlight_Exposure'].apply(lambda x: replace_with_random(x, value_mapping))\n",
        "\n",
        "# Display the updated DataFrame\n",
        "print(data)"
      ],
      "metadata": {
        "id": "ewN8qnbg44CV"
      },
      "execution_count": null,
      "outputs": []
    },
    {
      "cell_type": "markdown",
      "source": [
        "# Save Preprocessed Dataset"
      ],
      "metadata": {
        "id": "plPUXPoe1rrf"
      }
    },
    {
      "cell_type": "code",
      "source": [
        "data.to_csv('Water Quality Assessment and Tank Cleaning Prediction Survey(new_1).csv', index=False)\n",
        "# Save in a specific directory with a file name\n",
        "data.to_csv('/content/drive/MyDrive/Project-Fish-ML/Project-Fish-ML/Function 1/Water Quality Assessment and Tank Cleaning Prediction Survey(new_1)', index=False)"
      ],
      "metadata": {
        "id": "xPVEbpgI1Xuf"
      },
      "execution_count": null,
      "outputs": []
    }
  ]
}